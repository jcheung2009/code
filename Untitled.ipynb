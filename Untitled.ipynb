{
 "cells": [
  {
   "cell_type": "code",
   "execution_count": 1,
   "metadata": {},
   "outputs": [],
   "source": [
    "%get sample data of syllables in bird's song\n",
    "filepath = '/opt/data/deaf_and_naspm/rd36gr25/saline_2_11_2018/';\n",
    "list = 'batch.keep';\n",
    "\n",
    "ff = load_batchf([filepath,list]);\n",
    "\n",
    "        "
   ]
  },
  {
   "cell_type": "code",
   "execution_count": 2,
   "metadata": {},
   "outputs": [],
   "source": [
    "ons = []; offs = []; lbls = []; filtsong = [];\n",
    "tm = 0;\n",
    "for i = 1:length(ff)\n",
    "    load([filepath,ff(i).name,'.not.mat']);\n",
    "    ons = [ons;onsets+tm];\n",
    "    offs = [offs;offsets+tm];\n",
    "    lbls = [lbls labels];\n",
    "    [dat fs] = evsoundin(filepath,ff(i).name,'obs0');\n",
    "    filtsong = [filtsong; bandpass(dat,fs,300,10000,'hanningffir')];\n",
    "    tm = tm+(length(dat)*1000)/fs;\n",
    "end"
   ]
  },
  {
   "cell_type": "code",
   "execution_count": 4,
   "metadata": {},
   "outputs": [
    {
     "name": "stdout",
     "output_type": "stream",
     "text": [
      "\n",
      "ans =\n",
      "\n",
      "    86240901\n",
      "\n",
      "\n",
      "ans =\n",
      "\n",
      "       16900\n",
      "\n",
      "\n",
      "ans =\n",
      "\n",
      "       16900\n",
      "\n"
     ]
    }
   ],
   "source": [
    "\n"
   ]
  },
  {
   "cell_type": "code",
   "execution_count": 10,
   "metadata": {},
   "outputs": [
    {
     "name": "stdout",
     "output_type": "stream",
     "text": [
      "\n",
      "ans =\n",
      "\n",
      "      549470\n",
      "\n"
     ]
    }
   ],
   "source": []
  },
  {
   "cell_type": "code",
   "execution_count": null,
   "metadata": {},
   "outputs": [],
   "source": []
  }
 ],
 "metadata": {
  "kernelspec": {
   "display_name": "Matlab",
   "language": "matlab",
   "name": "matlab"
  },
  "language_info": {
   "codemirror_mode": "octave",
   "file_extension": ".m",
   "help_links": [
    {
     "text": "MetaKernel Magics",
     "url": "https://github.com/calysto/metakernel/blob/master/metakernel/magics/README.md"
    }
   ],
   "mimetype": "text/x-octave",
   "name": "matlab",
   "version": "0.15.0"
  }
 },
 "nbformat": 4,
 "nbformat_minor": 2
}
