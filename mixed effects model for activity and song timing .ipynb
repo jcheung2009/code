{
 "cells": [
  {
   "cell_type": "markdown",
   "metadata": {
    "slideshow": {
     "slide_type": "-"
    }
   },
   "source": [
    "mixed effects model for estimating relationship between firing rate and gap duration \n",
    "1) Is there a consistent and significant relationship between FR and gap length? \n",
    "2) If there is, could it be an artifact of changes to volume and syllable durations? \n",
    "3) Is there a consistent and significant relationship between gap length and volume? \n",
    "4) Is there a consistent and significant relationship between gap length and duration? "
   ]
  },
  {
   "cell_type": "code",
   "execution_count": 1,
   "metadata": {
    "scrolled": true
   },
   "outputs": [],
   "source": [
    "% load table with information extracted about burst activity before gap lengths\n",
    "path = '/media/jcheung/MyPassport/Sober_data_RA_phones/RA_physiology/RA_data_summaries_putative_proj_neurons/';\n",
    "filename = 'gap_correlation_analysis_singleunits.mat';\n",
    "load([path,filename])"
   ]
  },
  {
   "cell_type": "code",
   "execution_count": null,
   "metadata": {
    "scrolled": true,
    "slideshow": {
     "slide_type": "-"
    }
   },
   "outputs": [],
   "source": [
    "head(dattable)"
   ]
  },
  {
   "cell_type": "code",
   "execution_count": null,
   "metadata": {
    "scrolled": true
   },
   "outputs": [],
   "source": []
  }
 ],
 "metadata": {
  "celltoolbar": "Edit Metadata",
  "kernelspec": {
   "display_name": "Matlab",
   "language": "matlab",
   "name": "matlab"
  },
  "language_info": {
   "codemirror_mode": "octave",
   "file_extension": ".m",
   "help_links": [
    {
     "text": "MetaKernel Magics",
     "url": "https://github.com/calysto/metakernel/blob/master/metakernel/magics/README.md"
    }
   ],
   "mimetype": "text/x-octave",
   "name": "matlab",
   "version": "0.15.0"
  }
 },
 "nbformat": 4,
 "nbformat_minor": 2
}
