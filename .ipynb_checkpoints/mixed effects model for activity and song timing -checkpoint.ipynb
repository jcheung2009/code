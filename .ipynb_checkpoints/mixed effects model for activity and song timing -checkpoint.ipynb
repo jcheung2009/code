{
 "cells": [
  {
   "cell_type": "code",
   "execution_count": null,
   "metadata": {
    "slideshow": {
     "slide_type": "-"
    }
   },
   "outputs": [],
   "source": [
    "%%Mixed effects model for estimating relationship between firing rate and gap duration \n",
    "%1) Is there a consistent and significant relationship between FR and gap length? \n",
    "%2) If there is, could it be an artifact of changes to volume and syllable durations? \n",
    "%3) Is there a consistent and significant relationship between gap length and volume? \n",
    "%4) Is there a consistent and significant relationship between gap length and duration? "
   ]
  },
  {
   "cell_type": "code",
   "execution_count": 1,
   "metadata": {
    "scrolled": true
   },
   "outputs": [],
   "source": [
    "% load table with information extracted about burst activity before gap lengths\n",
    "path = '/media/jcheung/MyPassport/Sober_data_RA_phones/RA_physiology/RA_data_summaries_putative_proj_neurons/';\n",
    "filename = 'gap_correlation_analysis_singleunits.mat';\n",
    "load([path,filename])"
   ]
  },
  {
   "cell_type": "code",
   "execution_count": 4,
   "metadata": {
    "scrolled": false,
    "slideshow": {
     "slide_type": "-"
    }
   },
   "outputs": [
    {
     "name": "stdout",
     "output_type": "stream",
     "text": [
      "\n",
      "ans = \n",
      "\n",
      "     dur      spikes     birdid                     unitid                      seqid      burstid\n",
      "    ______    ______    ________    _______________________________________    ________    _______\n",
      "\n",
      "    30.812    6.4488    'G26G23'    'G26G23_MU_5_29_2006_1530_1540_PCA_CH0'    'abcddd'    1      \n",
      "    29.219     23.87    'G26G23'    'G26G23_MU_5_29_2006_1530_1540_PCA_CH0'    'abcddd'    1      \n",
      "    29.188    11.992    'G26G23'    'G26G23_MU_5_29_2006_1530_1540_PCA_CH0'    'abcddd'    1      \n",
      "    28.625    14.892    'G26G23'    'G26G23_MU_5_29_2006_1530_1540_PCA_CH0'    'abcddd'    1      \n",
      "    28.594    42.346    'G26G23'    'G26G23_MU_5_29_2006_1530_1540_PCA_CH0'    'abcddd'    1      \n",
      "    28.312    10.009    'G26G23'    'G26G23_MU_5_29_2006_1530_1540_PCA_CH0'    'abcddd'    1      \n",
      "    28.031    11.436    'G26G23'    'G26G23_MU_5_29_2006_1530_1540_PCA_CH0'    'abcddd'    1      \n",
      "        28    23.646    'G26G23'    'G26G23_MU_5_29_2006_1530_1540_PCA_CH0'    'abcddd'    1      \n",
      "    27.812    30.848    'G26G23'    'G26G23_MU_5_29_2006_1530_1540_PCA_CH0'    'abcddd'    1      \n",
      "    27.312    8.6247    'G26G23'    'G26G23_MU_5_29_2006_1530_1540_PCA_CH0'    'abcddd'    1      \n",
      "\n"
     ]
    }
   ],
   "source": [
    "dattable(1:10,{'dur','spikes','birdid','unitid','seqid','burstid'})"
   ]
  },
  {
   "cell_type": "code",
   "execution_count": null,
   "metadata": {},
   "outputs": [],
   "source": [
    "%Each row is contains information about duration of the target element and FR in one trial from a burst for a \n",
    "%specific unit to a target sequence in a specific bird. Therefore, grouping factors are nested such that \n",
    "%birdID:unitID:seqID:burstID. Not shown is that table also has info on the volume and duration of adjacent syllables"
   ]
  },
  {
   "cell_type": "code",
   "execution_count": 2,
   "metadata": {},
   "outputs": [],
   "source": [
    "% Is duration of target element related to FR? \n",
    "activitythresh = 6;%threshold for filtering bursts that exhibit modulation with behavior, std above random activity\n",
    "activecases  = find(dattable.activity>=activitythresh);\n",
    "subset = dattable(activecases,:);\n",
    "cases = unique(subset(:,{'unitid','seqid','burstid'}));\n",
    "%normalizing predictors \n",
    "for i = 1:size(cases,1)\n",
    "    ind = find(strcmp(subset.unitid,cases(i,:).unitid) & strcmp(subset.seqid,cases(i,:).seqid) & subset.burstid==cases(i,:).burstid);\n",
    "    dur = subset(ind,:).dur;\n",
    "    dur = (dur-mean(dur))/std(dur);\n",
    "    subset(ind,:).dur = dur;\n",
    "end\n"
   ]
  },
  {
   "cell_type": "code",
   "execution_count": 3,
   "metadata": {},
   "outputs": [
    {
     "name": "stdout",
     "output_type": "stream",
     "text": [
      "\n",
      "ans = \n",
      "\n",
      "\n",
      "    THEORETICAL LIKELIHOOD RATIO TEST\n",
      "\n",
      "    Model    DF    AIC      BIC      LogLik    LRStat    deltaDF    pValue\n",
      "    mdl1     4     90484    90512    -45238                               \n",
      "    mdl2     5     83790    83826    -41890    6695.6    1          0     \n",
      "\n"
     ]
    }
   ],
   "source": [
    "% test whether to add randomm effect of seqid on intercept\n",
    "formula = 'spikes ~ dur + burstid';\n",
    "mdl1 = fitlme(subset,formula);\n",
    "formula = 'spikes ~ dur + burstid + (1|unitid:seqid)';\n",
    "mdl2 = fitlme(subset,formula);\n",
    "compare(mdl1,mdl2,'CheckNesting',true)"
   ]
  },
  {
   "cell_type": "code",
   "execution_count": 5,
   "metadata": {},
   "outputs": [
    {
     "name": "stdout",
     "output_type": "stream",
     "text": [
      "\n",
      "mdl2 = \n",
      "\n",
      "\n",
      "Linear mixed-effects model fit by ML\n",
      "\n",
      "Model information:\n",
      "    Number of observations            9221\n",
      "    Fixed effects coefficients           3\n",
      "    Random effects coefficients        126\n",
      "    Covariance parameters                2\n",
      "\n",
      "Formula:\n",
      "    spikes ~ 1 + dur + burstid + (1 | unitid:seqid)\n",
      "\n",
      "Model fit statistics:\n",
      "    AIC      BIC      LogLikelihood    Deviance\n",
      "    83790    83826    -41890           83780   \n",
      "\n",
      "Fixed effects coefficients (95% CIs):\n",
      "    Name                 Estimate    SE        tStat       DF      pValue    \n",
      "    '(Intercept)'          37.149    3.6486      10.182    9218    3.2144e-24\n",
      "    'dur'                -0.51703    0.2311     -2.2373    9218      0.025293\n",
      "    'burstid'             -1.4316    2.5665    -0.55782    9218       0.57698\n",
      "\n",
      "\n",
      "    Lower       Upper    \n",
      "      29.997       44.301\n",
      "    -0.97004    -0.064024\n",
      "     -6.4625       3.5992\n",
      "\n",
      "Random effects covariance parameters (95% CIs):\n",
      "Group: unitid:seqid (126 Levels)\n",
      "    Name1                Name2                Type         Estimate    Lower \n",
      "    '(Intercept)'        '(Intercept)'        'std'        27.883      24.603\n",
      "\n",
      "\n",
      "    Upper\n",
      "    31.6 \n",
      "\n",
      "Group: Error\n",
      "    Name             Estimate    Lower     Upper \n",
      "    'Res Std'        22.036      21.718    22.359\n",
      "\n"
     ]
    }
   ],
   "source": [
    "% Adding random effect of seqid on intercept significantly improves the model\n",
    "mdl2"
   ]
  },
  {
   "cell_type": "code",
   "execution_count": 6,
   "metadata": {},
   "outputs": [],
   "source": [
    "% random effect on intercept is significant when you examine the std intercept for intercept across levels in seqid\n",
    "% group"
   ]
  },
  {
   "cell_type": "code",
   "execution_count": 6,
   "metadata": {},
   "outputs": [
    {
     "data": {
      "image/png": "[encoded data removed]",
      "text/plain": [
       "<IPython.core.display.Image object>"
      ]
     },
     "metadata": {},
     "output_type": "display_data"
    }
   ],
   "source": [
    "% check residuals\n",
    "figure;plotResiduals(mdl2,'fitted');"
   ]
  },
  {
   "cell_type": "code",
   "execution_count": null,
   "metadata": {},
   "outputs": [],
   "source": [
    "% exclude outliers for better fit before testing addition of more random effects \n",
    "i = find(residuals(mdl2)>150);"
   ]
  },
  {
   "cell_type": "code",
   "execution_count": null,
   "metadata": {},
   "outputs": [],
   "source": [
    "% test whether to add random effect of seqid on slope. YES\n",
    "formula = 'spikes ~ dur + burstid + (1|unitid:seqid)';\n",
    "mdl1 = fitlme(subset,formula,'exclude',i);\n",
    "formula = 'spikes ~ dur + burstid + (1|unitid:seqid) + (dur-1|unitid:seqid)';\n",
    "mdl2 = fitlme(subset,formula,'exclude',i);\n",
    "compare(mdl1,mdl2,'CheckNesting',true)"
   ]
  },
  {
   "cell_type": "code",
   "execution_count": null,
   "metadata": {},
   "outputs": [],
   "source": []
  }
 ],
 "metadata": {
  "kernelspec": {
   "display_name": "Matlab",
   "language": "matlab",
   "name": "matlab"
  },
  "language_info": {
   "codemirror_mode": "octave",
   "file_extension": ".m",
   "help_links": [
    {
     "text": "MetaKernel Magics",
     "url": "https://github.com/calysto/metakernel/blob/master/metakernel/magics/README.md"
    }
   ],
   "mimetype": "text/x-octave",
   "name": "matlab",
   "version": "0.15.0"
  }
 },
 "nbformat": 4,
 "nbformat_minor": 2
}
