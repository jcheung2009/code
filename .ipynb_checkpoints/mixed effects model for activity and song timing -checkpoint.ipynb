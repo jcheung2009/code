{
 "cells": [
  {
   "cell_type": "markdown",
   "metadata": {
    "slideshow": {
     "slide_type": "-"
    }
   },
   "source": [
    "mixed effects model for estimating relationship between firing rate and gap duration \n",
    "1) Is there a consistent and significant relationship between FR and gap length? \n",
    "2) If there is, could it be an artifact of changes to volume and syllable durations? \n",
    "3) Is there a consistent and significant relationship between gap length and volume? \n",
    "4) Is there a consistent and significant relationship between gap length and duration? "
   ]
  },
  {
   "cell_type": "code",
   "execution_count": 1,
   "metadata": {
    "scrolled": true
   },
   "outputs": [],
   "source": [
    "% load table with information extracted about burst activity before gap lengths\n",
    "path = '/media/jcheung/MyPassport/Sober_data_RA_phones/RA_physiology/RA_data_summaries_putative_proj_neurons/';\n",
    "filename = 'gap_correlation_analysis_singleunits.mat';\n",
    "load([path,filename])"
   ]
  },
  {
   "cell_type": "code",
   "execution_count": 2,
   "metadata": {
    "scrolled": true,
    "slideshow": {
     "slide_type": "-"
    }
   },
   "outputs": [
    {
     "name": "stdout",
     "output_type": "stream",
     "text": [
      "\n",
      "ans = \n",
      "\n",
      "     dur      spikes    unittype    activity     birdid                     unitid                      seqid      burstid     vol1      vol2      dur1      dur2 \n",
      "    ______    ______    ________    ________    ________    _______________________________________    ________    _______    ______    ______    ______    ______\n",
      "\n",
      "    30.812    6.4488    1           31.125      'G26G23'    'G26G23_MU_5_29_2006_1530_1540_PCA_CH0'    'abcddd'    1          10.215    11.931    57.812    65.438\n",
      "    29.219     23.87    1           31.125      'G26G23'    'G26G23_MU_5_29_2006_1530_1540_PCA_CH0'    'abcddd'    1          10.016     11.99    56.219        68\n",
      "    29.188    11.992    1           31.125      'G26G23'    'G26G23_MU_5_29_2006_1530_1540_PCA_CH0'    'abcddd'    1          10.653    12.493     57.25    69.906\n",
      "    28.625    14.892    1           31.125      'G26G23'    'G26G23_MU_5_29_2006_1530_1540_PCA_CH0'    'abcddd'    1          9.9448    11.754    58.469    63.094\n",
      "    28.594    42.346    1           31.125      'G26G23'    'G26G23_MU_5_29_2006_1530_1540_PCA_CH0'    'abcddd'    1          10.011     11.82    53.781    71.469\n",
      "    28.312    10.009    1           31.125      'G26G23'    'G26G23_MU_5_29_2006_1530_1540_PCA_CH0'    'abcddd'    1          12.208    12.612    64.156      68.5\n",
      "    28.031    11.436    1           31.125      'G26G23'    'G26G23_MU_5_29_2006_1530_1540_PCA_CH0'    'abcddd'    1          9.9215    11.672    56.625    68.562\n",
      "        28    23.646    1           31.125      'G26G23'    'G26G23_MU_5_29_2006_1530_1540_PCA_CH0'    'abcddd'    1          9.8448    11.609    54.906    59.438\n",
      "    27.812    30.848    1           31.125      'G26G23'    'G26G23_MU_5_29_2006_1530_1540_PCA_CH0'    'abcddd'    1          10.099    11.583    57.656    63.625\n",
      "    27.312    8.6247    1           31.125      'G26G23'    'G26G23_MU_5_29_2006_1530_1540_PCA_CH0'    'abcddd'    1          10.358    11.846    57.219    63.906\n",
      "\n"
     ]
    }
   ],
   "source": [
    "dattable(1:10,:)"
   ]
  },
  {
   "cell_type": "code",
   "execution_count": null,
   "metadata": {
    "scrolled": true
   },
   "outputs": [],
   "source": []
  }
 ],
 "metadata": {
  "celltoolbar": "Edit Metadata",
  "kernelspec": {
   "display_name": "Matlab",
   "language": "matlab",
   "name": "matlab"
  },
  "language_info": {
   "codemirror_mode": "octave",
   "file_extension": ".m",
   "help_links": [
    {
     "text": "MetaKernel Magics",
     "url": "https://github.com/calysto/metakernel/blob/master/metakernel/magics/README.md"
    }
   ],
   "mimetype": "text/x-octave",
   "name": "matlab",
   "version": "0.15.0"
  }
 },
 "nbformat": 4,
 "nbformat_minor": 2
}
